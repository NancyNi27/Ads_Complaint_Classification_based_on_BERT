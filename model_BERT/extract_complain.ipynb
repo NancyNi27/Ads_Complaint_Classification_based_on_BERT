{
 "cells": [
  {
   "cell_type": "markdown",
   "metadata": {},
   "source": [
    "# 提取complaints\n"
   ]
  },
  {
   "cell_type": "code",
   "execution_count": 9,
   "metadata": {},
   "outputs": [
    {
     "name": "stdout",
     "output_type": "stream",
     "text": [
      "   complaint_id                                          complaint  \\\n",
      "0         24001  The advert shows a Kiwi crossing a pedestrian ...   \n",
      "1         24002  The Complainant was concerned the alcohol adve...   \n",
      "2         24003  The Complainant was concerned the alcohol adve...   \n",
      "3         24004  The Complainant was concerned the alcohol adve...   \n",
      "4         24005  The Complainant was concerned the alcohol adve...   \n",
      "\n",
      "  complaints_type  \n",
      "0         Unknown  \n",
      "1         Unknown  \n",
      "2         Unknown  \n",
      "3         Unknown  \n",
      "4         Unknown  \n"
     ]
    }
   ],
   "source": [
    "import pandas as pd\n",
    "from io import StringIO\n",
    "\n",
    "def extract_complaints_data(text):\n",
    "    # 使用pandas直接读取CSV格式的文本\n",
    "    df = pd.read_csv(StringIO(text))\n",
    "    \n",
    "    # 选择需要的列\n",
    "    # 注意这里使用complaints_type而不是complaint_type\n",
    "    df_filtered = df[['complaint_id', 'complaints', 'complaints_type']]\n",
    "    \n",
    "    # 重命名列以保持一致性\n",
    "    df_filtered = df_filtered.rename(columns={\n",
    "        'complaint_id': 'complaint_id',\n",
    "        'complaints': 'complaint'\n",
    "    })\n",
    "    \n",
    "    # 保存为CSV文件\n",
    "    df_filtered.to_csv('complaints.csv', index=False, encoding='utf-8')\n",
    "    \n",
    "    return df_filtered\n",
    "\n",
    "# 使用示例:\n",
    "with open('/Users/niwenyu/Desktop/OCR_PDF_EXTRACT/model_BERT/test_1.csv', 'r', encoding='utf-8') as file:\n",
    "    text = file.read()\n",
    "    df = extract_complaints_data(text)\n",
    "    print(df.head())  # 查看前几行数据"
   ]
  },
  {
   "cell_type": "markdown",
   "metadata": {},
   "source": [
    "# 提取adver"
   ]
  },
  {
   "cell_type": "code",
   "execution_count": 5,
   "metadata": {},
   "outputs": [
    {
     "name": "stdout",
     "output_type": "stream",
     "text": [
      "   adver_id                                              adver\n",
      "0       NaN                                                NaN\n",
      "1   24001.0  The Asahi television advertisement for the Lon...\n",
      "2   24002.0  The Lion television advertisement for Stella A...\n",
      "3   24003.0  The Lion television advertisement for Mac’s be...\n",
      "4   24004.0  The Lion television advertisement  for Steinla...\n"
     ]
    }
   ],
   "source": [
    "import pandas as pd\n",
    "from io import StringIO\n",
    "import numpy as np\n",
    "\n",
    "def extract_adver_data(text):\n",
    "    df = pd.read_csv(StringIO(text))\n",
    "    # 使用pandas直接读取CSV格式的文本\n",
    "    df['adver_id'] = df['adver_id'].replace([np.inf, -np.inf], np.nan)\n",
    "\n",
    "    \n",
    "    # 选择需要的列\n",
    "    df_filtered = df[['adver_id', 'adver']]\n",
    "    \n",
    "    # 重命名列以保持一致性\n",
    "    df_filtered = df_filtered.rename(columns={\n",
    "        'adver_id': 'adver_id',\n",
    "        'adver': 'adver'\n",
    "    })\n",
    "    \n",
    "    # 保存为CSV文件\n",
    "    df_filtered.to_csv('advers.csv', index=False, encoding='utf-8')\n",
    "    \n",
    "    return df_filtered\n",
    "\n",
    "# 使用示例:\n",
    "with open('/Users/niwenyu/Desktop/OCR_PDF_EXTRACT/model_BERT/test_1.csv', 'r', encoding='utf-8') as file:\n",
    "    text = file.read()\n",
    "    df = extract_adver_data(text)\n",
    "    print(df.head())  # 查看前几行数据"
   ]
  },
  {
   "cell_type": "code",
   "execution_count": 7,
   "metadata": {},
   "outputs": [
    {
     "name": "stdout",
     "output_type": "stream",
     "text": [
      "数据类型: int64\n",
      "\n",
      "前几行数据:\n",
      "   adver_id                                              adver\n",
      "1     24001  The Asahi television advertisement for the Lon...\n",
      "2     24002  The Lion television advertisement for Stella A...\n",
      "3     24003  The Lion television advertisement for Mac’s be...\n",
      "4     24004  The Lion television advertisement  for Steinla...\n",
      "5     24005  The Yoobee College of Creative Innovation Inst...\n"
     ]
    }
   ],
   "source": [
    "import pandas as pd\n",
    "import numpy as np\n",
    "from io import StringIO\n",
    "\n",
    "# 读取CSV文件\n",
    "df = pd.read_csv('/Users/niwenyu/Desktop/OCR_PDF_EXTRACT/model_BERT/advers.csv')\n",
    "\n",
    "# 处理 adver_id 列\n",
    "# 1. 将空值和非数值替换为 NaN\n",
    "df['adver_id'] = pd.to_numeric(df['adver_id'], errors='coerce')\n",
    "\n",
    "# 2. 删除 adver_id 为 NaN 的行\n",
    "df = df.dropna(subset=['adver_id'])\n",
    "\n",
    "# 3. 将 adver_id 转换为整数\n",
    "df['adver_id'] = df['adver_id'].astype(int)\n",
    "\n",
    "# 4. 保存结果\n",
    "df.to_csv('processed_data.csv', index=False)\n",
    "\n",
    "# 查看结果\n",
    "print(\"数据类型:\", df['adver_id'].dtype)\n",
    "print(\"\\n前几行数据:\")\n",
    "print(df[['adver_id', 'adver']].head())"
   ]
  },
  {
   "cell_type": "code",
   "execution_count": null,
   "metadata": {},
   "outputs": [],
   "source": []
  },
  {
   "cell_type": "code",
   "execution_count": null,
   "metadata": {},
   "outputs": [],
   "source": []
  }
 ],
 "metadata": {
  "kernelspec": {
   "display_name": "778_python3.10_cuda11.3_torch1.11",
   "language": "python",
   "name": "python3"
  },
  "language_info": {
   "codemirror_mode": {
    "name": "ipython",
    "version": 3
   },
   "file_extension": ".py",
   "mimetype": "text/x-python",
   "name": "python",
   "nbconvert_exporter": "python",
   "pygments_lexer": "ipython3",
   "version": "3.10.13"
  }
 },
 "nbformat": 4,
 "nbformat_minor": 2
}
